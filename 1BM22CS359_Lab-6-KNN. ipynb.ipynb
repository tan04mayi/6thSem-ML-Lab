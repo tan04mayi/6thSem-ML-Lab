{
  "nbformat": 4,
  "nbformat_minor": 0,
  "metadata": {
    "colab": {
      "provenance": []
    },
    "kernelspec": {
      "name": "python3",
      "display_name": "Python 3"
    },
    "language_info": {
      "name": "python"
    }
  },
  "cells": [
    {
      "cell_type": "code",
      "execution_count": null,
      "metadata": {
        "colab": {
          "base_uri": "https://localhost:8080/"
        },
        "id": "JznrG3p_4jYc",
        "outputId": "20309bfc-1594-449a-d0a3-3a23e3559265"
      },
      "outputs": [
        {
          "output_type": "stream",
          "name": "stdout",
          "text": [
            "\n",
            "--- Iris Dataset ---\n",
            "Accuracy: 1.0000\n",
            "Confusion Matrix:\n",
            "[[10  0  0]\n",
            " [ 0  9  0]\n",
            " [ 0  0 11]]\n",
            "Classification Report:\n",
            "              precision    recall  f1-score   support\n",
            "\n",
            "      setosa       1.00      1.00      1.00        10\n",
            "  versicolor       1.00      1.00      1.00         9\n",
            "   virginica       1.00      1.00      1.00        11\n",
            "\n",
            "    accuracy                           1.00        30\n",
            "   macro avg       1.00      1.00      1.00        30\n",
            "weighted avg       1.00      1.00      1.00        30\n",
            "\n"
          ]
        }
      ],
      "source": [
        "import pandas as pd\n",
        "import numpy as np\n",
        "import matplotlib.pyplot as plt\n",
        "import seaborn as sns\n",
        "\n",
        "from sklearn.model_selection import train_test_split\n",
        "from sklearn.neighbors import KNeighborsClassifier\n",
        "from sklearn.preprocessing import StandardScaler\n",
        "from sklearn.metrics import accuracy_score, confusion_matrix, classification_report, ConfusionMatrixDisplay\n",
        "\n",
        "# Paths\n",
        "iris_path = \"iris.csv\"\n",
        "\n",
        "\n",
        "# 1. KNN Classifier on Iris Dataset\n",
        "print(\"\\n--- Iris Dataset ---\")\n",
        "iris_df = pd.read_csv(iris_path)\n",
        "\n",
        "X_iris = iris_df.drop('species', axis=1)\n",
        "y_iris = iris_df['species']\n",
        "\n",
        "X_train_iris, X_test_iris, y_train_iris, y_test_iris = train_test_split(X_iris, y_iris, test_size=0.2, random_state=42)\n",
        "\n",
        "# Choosing k value (typically sqrt(n))\n",
        "k_iris = int(np.sqrt(len(X_train_iris)))\n",
        "knn_iris = KNeighborsClassifier(n_neighbors=k_iris)\n",
        "knn_iris.fit(X_train_iris, y_train_iris)\n",
        "y_pred_iris = knn_iris.predict(X_test_iris)\n",
        "\n",
        "print(f\"Accuracy: {accuracy_score(y_test_iris, y_pred_iris):.4f}\")\n",
        "print(\"Confusion Matrix:\")\n",
        "print(confusion_matrix(y_test_iris, y_pred_iris))\n",
        "print(\"Classification Report:\")\n",
        "print(classification_report(y_test_iris, y_pred_iris))\n",
        "\n",
        "\n",
        "\n"
      ]
    },
    {
      "cell_type": "code",
      "source": [
        "# 2. KNN Classifier on Diabetes Dataset with Scaling\n",
        "diabetes_path = \"diabetes (1).csv\"\n",
        "diabetes_df = pd.read_csv(diabetes_path)\n",
        "\n",
        "X_diabetes = diabetes_df.drop('Outcome', axis=1)\n",
        "y_diabetes = diabetes_df['Outcome']\n",
        "\n",
        "scaler = StandardScaler()\n",
        "X_diabetes_scaled = scaler.fit_transform(X_diabetes)\n",
        "\n",
        "X_train_db, X_test_db, y_train_db, y_test_db = train_test_split(X_diabetes_scaled, y_diabetes, test_size=0.2, random_state=42)\n",
        "\n",
        "k_diabetes = int(np.sqrt(len(X_train_db)))\n",
        "knn_diabetes = KNeighborsClassifier(n_neighbors=k_diabetes)\n",
        "knn_diabetes.fit(X_train_db, y_train_db)\n",
        "y_pred_db = knn_diabetes.predict(X_test_db)\n",
        "\n",
        "print(f\"Accuracy: {accuracy_score(y_test_db, y_pred_db):.4f}\")\n",
        "print(\"Confusion Matrix:\")\n",
        "print(confusion_matrix(y_test_db, y_pred_db))"
      ],
      "metadata": {
        "colab": {
          "base_uri": "https://localhost:8080/"
        },
        "id": "6XaMzENp6obU",
        "outputId": "49e1b185-0343-4d02-f0ca-b303e01c0a7c"
      },
      "execution_count": null,
      "outputs": [
        {
          "output_type": "stream",
          "name": "stdout",
          "text": [
            "Accuracy: 0.7468\n",
            "Confusion Matrix:\n",
            "[[89 10]\n",
            " [29 26]]\n"
          ]
        }
      ]
    },
    {
      "cell_type": "code",
      "source": [
        "# 3. KNN Classifier on Heart Dataset with k tuning\n",
        "\n",
        "heart_path = \"heart.csv\"\n",
        "print(\"\\n--- Heart Dataset ---\")\n",
        "heart_df = pd.read_csv(heart_path)\n",
        "\n",
        "X_heart = heart_df.drop('target', axis=1)\n",
        "y_heart = heart_df['target']\n",
        "\n",
        "scaler = StandardScaler()\n",
        "X_heart_scaled = scaler.fit_transform(X_heart)\n",
        "\n",
        "X_train_heart, X_test_heart, y_train_heart, y_test_heart = train_test_split(X_heart_scaled, y_heart, test_size=0.2, random_state=42)\n",
        "\n",
        "# Finding best k\n",
        "scores = []\n",
        "k_range = range(1, 21)\n",
        "for k in k_range:\n",
        "    knn = KNeighborsClassifier(n_neighbors=k)\n",
        "    knn.fit(X_train_heart, y_train_heart)\n",
        "    scores.append(knn.score(X_test_heart, y_test_heart))\n",
        "\n",
        "best_k = k_range[np.argmax(scores)]\n",
        "print(f\"Best k: {best_k} with Accuracy: {max(scores):.4f}\")\n",
        "\n",
        "# Train with best k\n",
        "knn_heart = KNeighborsClassifier(n_neighbors=best_k)\n",
        "knn_heart.fit(X_train_heart, y_train_heart)\n",
        "y_pred_heart = knn_heart.predict(X_test_heart)\n",
        "\n",
        "# Plot Confusion Matrix\n",
        "cm = confusion_matrix(y_test_heart, y_pred_heart)\n",
        "disp = ConfusionMatrixDisplay(confusion_matrix=cm, display_labels=knn_heart.classes_)\n",
        "disp.plot(cmap='Blues')\n",
        "plt.title(\"Heart Dataset Confusion Matrix\")\n",
        "plt.show()\n",
        "\n",
        "# Plot Classification Report\n",
        "print(\"Classification Report:\")\n",
        "print(classification_report(y_test_heart, y_pred_heart))\n"
      ],
      "metadata": {
        "colab": {
          "base_uri": "https://localhost:8080/",
          "height": 698
        },
        "id": "wJjgTZ_g6zS8",
        "outputId": "d376d696-b5ff-41c0-949a-2cbf78cb5878"
      },
      "execution_count": null,
      "outputs": [
        {
          "output_type": "stream",
          "name": "stdout",
          "text": [
            "\n",
            "--- Heart Dataset ---\n",
            "Best k: 6 with Accuracy: 0.9344\n"
          ]
        },
        {
          "output_type": "display_data",
          "data": {
            "text/plain": [
              "<Figure size 640x480 with 2 Axes>"
            ],
            "image/png": "[encoded data removed]"
          },
          "metadata": {}
        },
        {
          "output_type": "stream",
          "name": "stdout",
          "text": [
            "Classification Report:\n",
            "              precision    recall  f1-score   support\n",
            "\n",
            "           0       0.90      0.97      0.93        29\n",
            "           1       0.97      0.91      0.94        32\n",
            "\n",
            "    accuracy                           0.93        61\n",
            "   macro avg       0.93      0.94      0.93        61\n",
            "weighted avg       0.94      0.93      0.93        61\n",
            "\n"
          ]
        }
      ]
    }
  ]
}